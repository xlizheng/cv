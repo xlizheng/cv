{
 "cells": [
  {
   "cell_type": "code",
   "execution_count": 1,
   "metadata": {},
   "outputs": [
    {
     "data": {
      "text/plain": [
       "'C:\\\\Users\\\\tq06t\\\\cv'"
      ]
     },
     "execution_count": 1,
     "metadata": {},
     "output_type": "execute_result"
    }
   ],
   "source": [
    "import os\n",
    "os.getcwd()"
   ]
  },
  {
   "cell_type": "code",
   "execution_count": 12,
   "metadata": {},
   "outputs": [
    {
     "data": {
      "text/plain": [
       "<bound method NDFrame.head of           date  precode2020        pe  year date1     date2    date3  days  \\\n",
       "0   1990-06-15            0  5.208245  1990  0610  19900610  11118.0   6.0   \n",
       "1   1990-06-16            0  7.649718  1990  0610  19900610  11118.0   7.0   \n",
       "2   1990-06-17            0  3.960049  1990  0610  19900610  11118.0   8.0   \n",
       "3   1990-06-18            0  0.675080  1990  0610  19900610  11118.0   9.0   \n",
       "4   1990-06-19            0  1.869133  1990  0610  19900610  11118.0  10.0   \n",
       "..         ...          ...       ...   ...   ...       ...      ...   ...   \n",
       "692 2018-07-05            9  2.738879  2018  0610  20180610  21345.0  26.0   \n",
       "693 2018-07-06            9  3.704336  2018  0610  20180610  21345.0  27.0   \n",
       "694 2018-07-06            9  3.704336  2018  0610  20180610  21345.0  27.0   \n",
       "695 2018-07-07            9  2.610346  2018  0610  20180610  21345.0  28.0   \n",
       "696 2018-07-08            9  1.654530  2018  0610  20180610  21345.0  29.0   \n",
       "\n",
       "     pre2020    yield_w     yield_t    yield_l  yield_tlow  yield_wlow  \\\n",
       "0        0.5 -57.535521  407.535521  57.535521  413.627286  -63.627285   \n",
       "1        0.0 -57.535521  407.535521  57.535521  413.627286  -63.627285   \n",
       "2       17.0 -57.535521  407.535521  57.535521  413.627286  -63.627285   \n",
       "3       24.0 -57.535521  407.535521  57.535521  413.627286  -63.627285   \n",
       "4        0.0 -57.535521  407.535521  57.535521  413.627286  -63.627285   \n",
       "..       ...        ...         ...        ...         ...         ...   \n",
       "692      0.0 -59.835642  556.265642  59.835642  532.313285  -35.883286   \n",
       "693      0.0 -59.835642  556.265642  59.835642  532.313285  -35.883286   \n",
       "694      0.0 -59.835642  556.265642  59.835642  532.313285  -35.883286   \n",
       "695      0.0 -59.835642  556.265642  59.835642  532.313285  -35.883286   \n",
       "696      0.0 -59.835642  556.265642  59.835642  532.313285  -35.883286   \n",
       "\n",
       "     yield_llow    lr_low  \n",
       "0     63.627285  0.181792  \n",
       "1     63.627285  0.181792  \n",
       "2     63.627285  0.181792  \n",
       "3     63.627285  0.181792  \n",
       "4     63.627285  0.181792  \n",
       "..          ...       ...  \n",
       "692   35.883286  0.072283  \n",
       "693   35.883286  0.072283  \n",
       "694   35.883286  0.072283  \n",
       "695   35.883286  0.072283  \n",
       "696   35.883286  0.072283  \n",
       "\n",
       "[697 rows x 16 columns]>"
      ]
     },
     "execution_count": 12,
     "metadata": {},
     "output_type": "execute_result"
    }
   ],
   "source": [
    "import numpy as np\n",
    "import pandas as pd\n",
    "f=r'陵城区降水temp.dta'\n",
    "HighTemp=pd.read_stata(f)\n",
    "HighTemp.head"
   ]
  },
  {
   "cell_type": "code",
   "execution_count": 13,
   "metadata": {},
   "outputs": [
    {
     "data": {
      "text/plain": [
       "date      datetime64[ns]\n",
       "avegst             int32\n",
       "maxgst             int32\n",
       "mingst           float64\n",
       "year             float32\n",
       "dtype: object"
      ]
     },
     "execution_count": 13,
     "metadata": {},
     "output_type": "execute_result"
    }
   ],
   "source": [
    "HighTemp.dtypes #查看变量属性"
   ]
  },
  {
   "cell_type": "code",
   "execution_count": 6,
   "metadata": {},
   "outputs": [
    {
     "data": {
      "text/html": [
       "<div>\n",
       "<style scoped>\n",
       "    .dataframe tbody tr th:only-of-type {\n",
       "        vertical-align: middle;\n",
       "    }\n",
       "\n",
       "    .dataframe tbody tr th {\n",
       "        vertical-align: top;\n",
       "    }\n",
       "\n",
       "    .dataframe thead th {\n",
       "        text-align: right;\n",
       "    }\n",
       "</style>\n",
       "<table border=\"1\" class=\"dataframe\">\n",
       "  <thead>\n",
       "    <tr style=\"text-align: right;\">\n",
       "      <th></th>\n",
       "      <th>date</th>\n",
       "      <th>avegst</th>\n",
       "      <th>maxgst</th>\n",
       "      <th>mingst</th>\n",
       "      <th>year</th>\n",
       "    </tr>\n",
       "  </thead>\n",
       "  <tbody>\n",
       "    <tr>\n",
       "      <th>0</th>\n",
       "      <td>1979-06-01</td>\n",
       "      <td>270</td>\n",
       "      <td>554</td>\n",
       "      <td>151.0</td>\n",
       "      <td>1979.0</td>\n",
       "    </tr>\n",
       "    <tr>\n",
       "      <th>1</th>\n",
       "      <td>1979-06-02</td>\n",
       "      <td>324</td>\n",
       "      <td>579</td>\n",
       "      <td>182.0</td>\n",
       "      <td>1979.0</td>\n",
       "    </tr>\n",
       "    <tr>\n",
       "      <th>2</th>\n",
       "      <td>1979-06-03</td>\n",
       "      <td>295</td>\n",
       "      <td>501</td>\n",
       "      <td>180.0</td>\n",
       "      <td>1979.0</td>\n",
       "    </tr>\n",
       "    <tr>\n",
       "      <th>3</th>\n",
       "      <td>1979-06-04</td>\n",
       "      <td>298</td>\n",
       "      <td>509</td>\n",
       "      <td>157.0</td>\n",
       "      <td>1979.0</td>\n",
       "    </tr>\n",
       "    <tr>\n",
       "      <th>4</th>\n",
       "      <td>1979-06-05</td>\n",
       "      <td>259</td>\n",
       "      <td>378</td>\n",
       "      <td>185.0</td>\n",
       "      <td>1979.0</td>\n",
       "    </tr>\n",
       "    <tr>\n",
       "      <th>...</th>\n",
       "      <td>...</td>\n",
       "      <td>...</td>\n",
       "      <td>...</td>\n",
       "      <td>...</td>\n",
       "      <td>...</td>\n",
       "    </tr>\n",
       "    <tr>\n",
       "      <th>4876</th>\n",
       "      <td>2018-09-26</td>\n",
       "      <td>212</td>\n",
       "      <td>378</td>\n",
       "      <td>123.0</td>\n",
       "      <td>2018.0</td>\n",
       "    </tr>\n",
       "    <tr>\n",
       "      <th>4877</th>\n",
       "      <td>2018-09-27</td>\n",
       "      <td>216</td>\n",
       "      <td>386</td>\n",
       "      <td>112.0</td>\n",
       "      <td>2018.0</td>\n",
       "    </tr>\n",
       "    <tr>\n",
       "      <th>4878</th>\n",
       "      <td>2018-09-28</td>\n",
       "      <td>243</td>\n",
       "      <td>419</td>\n",
       "      <td>163.0</td>\n",
       "      <td>2018.0</td>\n",
       "    </tr>\n",
       "    <tr>\n",
       "      <th>4879</th>\n",
       "      <td>2018-09-29</td>\n",
       "      <td>221</td>\n",
       "      <td>397</td>\n",
       "      <td>114.0</td>\n",
       "      <td>2018.0</td>\n",
       "    </tr>\n",
       "    <tr>\n",
       "      <th>4880</th>\n",
       "      <td>2018-09-30</td>\n",
       "      <td>194</td>\n",
       "      <td>360</td>\n",
       "      <td>81.0</td>\n",
       "      <td>2018.0</td>\n",
       "    </tr>\n",
       "  </tbody>\n",
       "</table>\n",
       "<p>4881 rows × 5 columns</p>\n",
       "</div>"
      ],
      "text/plain": [
       "           date  avegst  maxgst  mingst    year\n",
       "0    1979-06-01     270     554   151.0  1979.0\n",
       "1    1979-06-02     324     579   182.0  1979.0\n",
       "2    1979-06-03     295     501   180.0  1979.0\n",
       "3    1979-06-04     298     509   157.0  1979.0\n",
       "4    1979-06-05     259     378   185.0  1979.0\n",
       "...         ...     ...     ...     ...     ...\n",
       "4876 2018-09-26     212     378   123.0  2018.0\n",
       "4877 2018-09-27     216     386   112.0  2018.0\n",
       "4878 2018-09-28     243     419   163.0  2018.0\n",
       "4879 2018-09-29     221     397   114.0  2018.0\n",
       "4880 2018-09-30     194     360    81.0  2018.0\n",
       "\n",
       "[4881 rows x 5 columns]"
      ]
     },
     "execution_count": 6,
     "metadata": {},
     "output_type": "execute_result"
    }
   ],
   "source": [
    "from sklearn.model_selection import train_test_split\n",
    "from sklearn import datasets\n",
    "HighTemp"
   ]
  },
  {
   "cell_type": "code",
   "execution_count": 7,
   "metadata": {},
   "outputs": [
    {
     "ename": "AttributeError",
     "evalue": "'DataFrame' object has no attribute 'data'",
     "output_type": "error",
     "traceback": [
      "\u001b[1;31m---------------------------------------------------------------------------\u001b[0m",
      "\u001b[1;31mAttributeError\u001b[0m                            Traceback (most recent call last)",
      "\u001b[1;32m<ipython-input-7-621e5ab34158>\u001b[0m in \u001b[0;36m<module>\u001b[1;34m\u001b[0m\n\u001b[1;32m----> 1\u001b[1;33m \u001b[0mX_train\u001b[0m\u001b[1;33m,\u001b[0m \u001b[0mX_test\u001b[0m\u001b[1;33m,\u001b[0m \u001b[0my_train\u001b[0m\u001b[1;33m,\u001b[0m \u001b[0my_test\u001b[0m\u001b[1;33m=\u001b[0m\u001b[0mtrain_test_split\u001b[0m\u001b[1;33m(\u001b[0m\u001b[0mHighTemp\u001b[0m\u001b[1;33m.\u001b[0m\u001b[0mdata\u001b[0m\u001b[1;33m,\u001b[0m \u001b[0mHighTemp\u001b[0m\u001b[1;33m.\u001b[0m\u001b[0mtarget\u001b[0m\u001b[1;33m,\u001b[0m \u001b[0mtest_size\u001b[0m\u001b[1;33m=\u001b[0m\u001b[1;36m0.4\u001b[0m\u001b[1;33m,\u001b[0m \u001b[0mrandom_stata\u001b[0m\u001b[1;33m=\u001b[0m\u001b[1;36m0\u001b[0m\u001b[1;33m)\u001b[0m\u001b[1;33m\u001b[0m\u001b[1;33m\u001b[0m\u001b[0m\n\u001b[0m",
      "\u001b[1;32mD:\\ProgramData\\Anaconda3\\lib\\site-packages\\pandas\\core\\generic.py\u001b[0m in \u001b[0;36m__getattr__\u001b[1;34m(self, name)\u001b[0m\n\u001b[0;32m   5137\u001b[0m             \u001b[1;32mif\u001b[0m \u001b[0mself\u001b[0m\u001b[1;33m.\u001b[0m\u001b[0m_info_axis\u001b[0m\u001b[1;33m.\u001b[0m\u001b[0m_can_hold_identifiers_and_holds_name\u001b[0m\u001b[1;33m(\u001b[0m\u001b[0mname\u001b[0m\u001b[1;33m)\u001b[0m\u001b[1;33m:\u001b[0m\u001b[1;33m\u001b[0m\u001b[1;33m\u001b[0m\u001b[0m\n\u001b[0;32m   5138\u001b[0m                 \u001b[1;32mreturn\u001b[0m \u001b[0mself\u001b[0m\u001b[1;33m[\u001b[0m\u001b[0mname\u001b[0m\u001b[1;33m]\u001b[0m\u001b[1;33m\u001b[0m\u001b[1;33m\u001b[0m\u001b[0m\n\u001b[1;32m-> 5139\u001b[1;33m             \u001b[1;32mreturn\u001b[0m \u001b[0mobject\u001b[0m\u001b[1;33m.\u001b[0m\u001b[0m__getattribute__\u001b[0m\u001b[1;33m(\u001b[0m\u001b[0mself\u001b[0m\u001b[1;33m,\u001b[0m \u001b[0mname\u001b[0m\u001b[1;33m)\u001b[0m\u001b[1;33m\u001b[0m\u001b[1;33m\u001b[0m\u001b[0m\n\u001b[0m\u001b[0;32m   5140\u001b[0m \u001b[1;33m\u001b[0m\u001b[0m\n\u001b[0;32m   5141\u001b[0m     \u001b[1;32mdef\u001b[0m \u001b[0m__setattr__\u001b[0m\u001b[1;33m(\u001b[0m\u001b[0mself\u001b[0m\u001b[1;33m,\u001b[0m \u001b[0mname\u001b[0m\u001b[1;33m:\u001b[0m \u001b[0mstr\u001b[0m\u001b[1;33m,\u001b[0m \u001b[0mvalue\u001b[0m\u001b[1;33m)\u001b[0m \u001b[1;33m->\u001b[0m \u001b[1;32mNone\u001b[0m\u001b[1;33m:\u001b[0m\u001b[1;33m\u001b[0m\u001b[1;33m\u001b[0m\u001b[0m\n",
      "\u001b[1;31mAttributeError\u001b[0m: 'DataFrame' object has no attribute 'data'"
     ]
    }
   ],
   "source": [
    "X = df.drop(['target'],axis=1).values   # independant features\n",
    "y = df['target'].values\t\t\t\t\t# dependant variable\n",
    "X_train, X_test, y_train, y_test=train_test_split(HighTemp.data, HighTemp.target, test_size=0.4, random_stata=0)"
   ]
  }
 ],
 "metadata": {
  "kernelspec": {
   "display_name": "Python 3",
   "language": "python",
   "name": "python3"
  },
  "language_info": {
   "codemirror_mode": {
    "name": "ipython",
    "version": 3
   },
   "file_extension": ".py",
   "mimetype": "text/x-python",
   "name": "python",
   "nbconvert_exporter": "python",
   "pygments_lexer": "ipython3",
   "version": "3.8.5"
  }
 },
 "nbformat": 4,
 "nbformat_minor": 4
}
