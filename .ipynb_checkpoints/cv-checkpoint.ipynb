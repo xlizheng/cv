{
 "cells": [
  {
   "cell_type": "code",
   "execution_count": 8,
   "metadata": {},
   "outputs": [
    {
     "data": {
      "text/html": [
       "<div>\n",
       "<style scoped>\n",
       "    .dataframe tbody tr th:only-of-type {\n",
       "        vertical-align: middle;\n",
       "    }\n",
       "\n",
       "    .dataframe tbody tr th {\n",
       "        vertical-align: top;\n",
       "    }\n",
       "\n",
       "    .dataframe thead th {\n",
       "        text-align: right;\n",
       "    }\n",
       "</style>\n",
       "<table border=\"1\" class=\"dataframe\">\n",
       "  <thead>\n",
       "    <tr style=\"text-align: right;\">\n",
       "      <th></th>\n",
       "      <th>date</th>\n",
       "      <th>avegst</th>\n",
       "      <th>maxgst</th>\n",
       "      <th>mingst</th>\n",
       "      <th>year</th>\n",
       "    </tr>\n",
       "  </thead>\n",
       "  <tbody>\n",
       "    <tr>\n",
       "      <th>0</th>\n",
       "      <td>1979-06-01</td>\n",
       "      <td>270</td>\n",
       "      <td>554</td>\n",
       "      <td>151.0</td>\n",
       "      <td>1979.0</td>\n",
       "    </tr>\n",
       "    <tr>\n",
       "      <th>1</th>\n",
       "      <td>1979-06-02</td>\n",
       "      <td>324</td>\n",
       "      <td>579</td>\n",
       "      <td>182.0</td>\n",
       "      <td>1979.0</td>\n",
       "    </tr>\n",
       "    <tr>\n",
       "      <th>2</th>\n",
       "      <td>1979-06-03</td>\n",
       "      <td>295</td>\n",
       "      <td>501</td>\n",
       "      <td>180.0</td>\n",
       "      <td>1979.0</td>\n",
       "    </tr>\n",
       "    <tr>\n",
       "      <th>3</th>\n",
       "      <td>1979-06-04</td>\n",
       "      <td>298</td>\n",
       "      <td>509</td>\n",
       "      <td>157.0</td>\n",
       "      <td>1979.0</td>\n",
       "    </tr>\n",
       "    <tr>\n",
       "      <th>4</th>\n",
       "      <td>1979-06-05</td>\n",
       "      <td>259</td>\n",
       "      <td>378</td>\n",
       "      <td>185.0</td>\n",
       "      <td>1979.0</td>\n",
       "    </tr>\n",
       "    <tr>\n",
       "      <th>5</th>\n",
       "      <td>1979-06-06</td>\n",
       "      <td>241</td>\n",
       "      <td>439</td>\n",
       "      <td>128.0</td>\n",
       "      <td>1979.0</td>\n",
       "    </tr>\n",
       "    <tr>\n",
       "      <th>6</th>\n",
       "      <td>1979-06-07</td>\n",
       "      <td>329</td>\n",
       "      <td>619</td>\n",
       "      <td>123.0</td>\n",
       "      <td>1979.0</td>\n",
       "    </tr>\n",
       "  </tbody>\n",
       "</table>\n",
       "</div>"
      ],
      "text/plain": [
       "        date  avegst  maxgst  mingst    year\n",
       "0 1979-06-01     270     554   151.0  1979.0\n",
       "1 1979-06-02     324     579   182.0  1979.0\n",
       "2 1979-06-03     295     501   180.0  1979.0\n",
       "3 1979-06-04     298     509   157.0  1979.0\n",
       "4 1979-06-05     259     378   185.0  1979.0\n",
       "5 1979-06-06     241     439   128.0  1979.0\n",
       "6 1979-06-07     329     619   123.0  1979.0"
      ]
     },
     "execution_count": 8,
     "metadata": {},
     "output_type": "execute_result"
    }
   ],
   "source": [
    "import numpy as np\n",
    "import pandas as pd\n",
    "f=r'C:\\Users\\tq06t\\OneDrive\\气象数据\\地面资料日值数据集\\高温.dta'\n",
    "HighTemp=pd.read_stata(f)\n",
    "HighTemp.head(7)"
   ]
  },
  {
   "cell_type": "code",
   "execution_count": 13,
   "metadata": {},
   "outputs": [
    {
     "data": {
      "text/plain": [
       "date      datetime64[ns]\n",
       "avegst             int32\n",
       "maxgst             int32\n",
       "mingst           float64\n",
       "year             float32\n",
       "dtype: object"
      ]
     },
     "execution_count": 13,
     "metadata": {},
     "output_type": "execute_result"
    }
   ],
   "source": [
    "HighTemp.dtypes #查看变量属性"
   ]
  },
  {
   "cell_type": "code",
   "execution_count": null,
   "metadata": {},
   "outputs": [],
   "source": [
    "from sklearn.model_selection import KFold\n"
   ]
  }
 ],
 "metadata": {
  "kernelspec": {
   "display_name": "Python 3",
   "language": "python",
   "name": "python3"
  },
  "language_info": {
   "codemirror_mode": {
    "name": "ipython",
    "version": 3
   },
   "file_extension": ".py",
   "mimetype": "text/x-python",
   "name": "python",
   "nbconvert_exporter": "python",
   "pygments_lexer": "ipython3",
   "version": "3.8.5"
  }
 },
 "nbformat": 4,
 "nbformat_minor": 4
}
